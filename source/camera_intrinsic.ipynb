{
 "cells": [
  {
   "cell_type": "code",
   "execution_count": 4,
   "metadata": {},
   "outputs": [
    {
     "data": {
      "text/html": [
       "<div>\n",
       "<style scoped>\n",
       "    .dataframe tbody tr th:only-of-type {\n",
       "        vertical-align: middle;\n",
       "    }\n",
       "\n",
       "    .dataframe tbody tr th {\n",
       "        vertical-align: top;\n",
       "    }\n",
       "\n",
       "    .dataframe thead th {\n",
       "        text-align: right;\n",
       "    }\n",
       "</style>\n",
       "<table border=\"1\" class=\"dataframe\">\n",
       "  <thead>\n",
       "    <tr style=\"text-align: right;\">\n",
       "      <th></th>\n",
       "      <th>6</th>\n",
       "      <th>camera_intrinsics</th>\n",
       "    </tr>\n",
       "  </thead>\n",
       "  <tbody>\n",
       "    <tr>\n",
       "      <th>0</th>\n",
       "      <td>a</td>\n",
       "      <td>2759.48 0 1520.69 0 2764.16 1006.81 0 0 1</td>\n",
       "    </tr>\n",
       "    <tr>\n",
       "      <th>1</th>\n",
       "      <td>b</td>\n",
       "      <td>2759.48 0 1520.69 0 2764.16 1006.81 0 0 1</td>\n",
       "    </tr>\n",
       "    <tr>\n",
       "      <th>2</th>\n",
       "      <td>c</td>\n",
       "      <td>2759.48 0 1520.69 0 2764.16 1006.81 0 0 1</td>\n",
       "    </tr>\n",
       "    <tr>\n",
       "      <th>3</th>\n",
       "      <td>d</td>\n",
       "      <td>2759.48 0 1520.69 0 2764.16 1006.81 0 0 1</td>\n",
       "    </tr>\n",
       "    <tr>\n",
       "      <th>4</th>\n",
       "      <td>e</td>\n",
       "      <td>2759.48 0 1520.69 0 2764.16 1006.81 0 0 1</td>\n",
       "    </tr>\n",
       "  </tbody>\n",
       "</table>\n",
       "</div>"
      ],
      "text/plain": [
       "   6                          camera_intrinsics\n",
       "0  a  2759.48 0 1520.69 0 2764.16 1006.81 0 0 1\n",
       "1  b  2759.48 0 1520.69 0 2764.16 1006.81 0 0 1\n",
       "2  c  2759.48 0 1520.69 0 2764.16 1006.81 0 0 1\n",
       "3  d  2759.48 0 1520.69 0 2764.16 1006.81 0 0 1\n",
       "4  e  2759.48 0 1520.69 0 2764.16 1006.81 0 0 1"
      ]
     },
     "execution_count": 4,
     "metadata": {},
     "output_type": "execute_result"
    }
   ],
   "source": [
    "import pandas as pd\n",
    "import numpy as np\n",
    "data=pd.read_csv('/home/ashmin/Documents/Python/3D_Reconstruction/datasets/fountain-P11/calibration.csv')\n",
    "data.head()"
   ]
  },
  {
   "cell_type": "code",
   "execution_count": 3,
   "metadata": {},
   "outputs": [
    {
     "name": "stdout",
     "output_type": "stream",
     "text": [
      "['image_id', 'camera_intrinsics']\n",
      "0    2759.48 0 1520.69 0 2764.16 1006.81 0 0 1\n",
      "Name: camera_intrinsics, dtype: object\n"
     ]
    }
   ],
   "source": [
    "df=pd.DataFrame(data)\n",
    "value=1\n",
    "print(df.columns.values.tolist())\n",
    "df_1=df.loc[df['image_id']==value,'camera_intrinsics']\n",
    "print(df_1)\n"
   ]
  },
  {
   "cell_type": "code",
   "execution_count": null,
   "metadata": {},
   "outputs": [],
   "source": []
  }
 ],
 "metadata": {
  "kernelspec": {
   "display_name": "Python 3.9.0 ('torch')",
   "language": "python",
   "name": "python3"
  },
  "language_info": {
   "codemirror_mode": {
    "name": "ipython",
    "version": 3
   },
   "file_extension": ".py",
   "mimetype": "text/x-python",
   "name": "python",
   "nbconvert_exporter": "python",
   "pygments_lexer": "ipython3",
   "version": "3.9.0"
  },
  "orig_nbformat": 4,
  "vscode": {
   "interpreter": {
    "hash": "2b97681fa81ff271a5c79f7534cc2b4dfbcfc950a2506a5de2c95f09bb1c14e0"
   }
  }
 },
 "nbformat": 4,
 "nbformat_minor": 2
}
