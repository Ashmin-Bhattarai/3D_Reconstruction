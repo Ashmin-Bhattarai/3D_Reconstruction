{
 "cells": [
  {
   "cell_type": "code",
   "execution_count": 30,
   "metadata": {},
   "outputs": [
    {
     "data": {
      "text/html": [
       "<div>\n",
       "<style scoped>\n",
       "    .dataframe tbody tr th:only-of-type {\n",
       "        vertical-align: middle;\n",
       "    }\n",
       "\n",
       "    .dataframe tbody tr th {\n",
       "        vertical-align: top;\n",
       "    }\n",
       "\n",
       "    .dataframe thead th {\n",
       "        text-align: right;\n",
       "    }\n",
       "</style>\n",
       "<table border=\"1\" class=\"dataframe\">\n",
       "  <thead>\n",
       "    <tr style=\"text-align: right;\">\n",
       "      <th></th>\n",
       "      <th>image_id</th>\n",
       "      <th>camera_intrinsics</th>\n",
       "      <th>rotation_matrix</th>\n",
       "      <th>translation_vector</th>\n",
       "    </tr>\n",
       "  </thead>\n",
       "  <tbody>\n",
       "    <tr>\n",
       "      <th>0</th>\n",
       "      <td>59643519_7402405564</td>\n",
       "      <td>8.24945190e+02 0.00000000e+00 2.94000000e+02 0...</td>\n",
       "      <td>7.46152124e-01 -1.31484152e-01 -6.52662949e-01...</td>\n",
       "      <td>2.43180014e+00 2.87226277e-01 1.73284200e+00</td>\n",
       "    </tr>\n",
       "    <tr>\n",
       "      <th>1</th>\n",
       "      <td>68746686_8152199425</td>\n",
       "      <td>1.07901758e+03 0.00000000e+00 4.83500000e+02 0...</td>\n",
       "      <td>9.83233262e-01 -1.45162899e-01 -1.10363422e-01...</td>\n",
       "      <td>3.45407401e+00 3.55837731e-01 -7.78928085e-02</td>\n",
       "    </tr>\n",
       "    <tr>\n",
       "      <th>2</th>\n",
       "      <td>29207510_3505803251</td>\n",
       "      <td>1.06918408e+03 0.00000000e+00 5.28500000e+02 0...</td>\n",
       "      <td>1.38854812e-02 3.16695848e-01 9.48425502e-01 -...</td>\n",
       "      <td>-4.41565097e+00 4.53551769e-01 4.28158024e+00</td>\n",
       "    </tr>\n",
       "    <tr>\n",
       "      <th>3</th>\n",
       "      <td>80317400_443361886</td>\n",
       "      <td>6.28700012e+02 0.00000000e+00 5.26000000e+02 0...</td>\n",
       "      <td>6.86180716e-01 2.46677512e-01 6.84329037e-01 -...</td>\n",
       "      <td>-3.37184713e+00 -8.20995206e-02 1.64829910e+00</td>\n",
       "    </tr>\n",
       "    <tr>\n",
       "      <th>4</th>\n",
       "      <td>38742190_3986250699</td>\n",
       "      <td>2.18831519e+03 0.00000000e+00 5.07000000e+02 0...</td>\n",
       "      <td>9.75647081e-01 6.87555302e-02 2.08291744e-01 -...</td>\n",
       "      <td>2.10078409e+00 6.30831569e-01 6.38746094e+00</td>\n",
       "    </tr>\n",
       "  </tbody>\n",
       "</table>\n",
       "</div>"
      ],
      "text/plain": [
       "              image_id                                  camera_intrinsics  \\\n",
       "0  59643519_7402405564  8.24945190e+02 0.00000000e+00 2.94000000e+02 0...   \n",
       "1  68746686_8152199425  1.07901758e+03 0.00000000e+00 4.83500000e+02 0...   \n",
       "2  29207510_3505803251  1.06918408e+03 0.00000000e+00 5.28500000e+02 0...   \n",
       "3   80317400_443361886  6.28700012e+02 0.00000000e+00 5.26000000e+02 0...   \n",
       "4  38742190_3986250699  2.18831519e+03 0.00000000e+00 5.07000000e+02 0...   \n",
       "\n",
       "                                     rotation_matrix  \\\n",
       "0  7.46152124e-01 -1.31484152e-01 -6.52662949e-01...   \n",
       "1  9.83233262e-01 -1.45162899e-01 -1.10363422e-01...   \n",
       "2  1.38854812e-02 3.16695848e-01 9.48425502e-01 -...   \n",
       "3  6.86180716e-01 2.46677512e-01 6.84329037e-01 -...   \n",
       "4  9.75647081e-01 6.87555302e-02 2.08291744e-01 -...   \n",
       "\n",
       "                               translation_vector  \n",
       "0    2.43180014e+00 2.87226277e-01 1.73284200e+00  \n",
       "1   3.45407401e+00 3.55837731e-01 -7.78928085e-02  \n",
       "2   -4.41565097e+00 4.53551769e-01 4.28158024e+00  \n",
       "3  -3.37184713e+00 -8.20995206e-02 1.64829910e+00  \n",
       "4    2.10078409e+00 6.30831569e-01 6.38746094e+00  "
      ]
     },
     "execution_count": 30,
     "metadata": {},
     "output_type": "execute_result"
    }
   ],
   "source": [
    "import pandas as pd\n",
    "import numpy as np\n",
    "data=pd.read_csv('calibration.csv')\n",
    "data.head()"
   ]
  },
  {
   "cell_type": "code",
   "execution_count": 32,
   "metadata": {},
   "outputs": [
    {
     "name": "stdout",
     "output_type": "stream",
     "text": [
      "['image_id', 'camera_intrinsics', 'rotation_matrix', 'translation_vector']\n",
      "4    2.18831519e+03 0.00000000e+00 5.07000000e+02 0...\n",
      "Name: camera_intrinsics, dtype: object\n"
     ]
    }
   ],
   "source": [
    "df=pd.DataFrame(data)\n",
    "value=(input(\"Enter the value of image_id: \"))\n",
    "print(df.columns.values.tolist())\n",
    "df_1=df.loc[df['image_id']==value,'camera_intrinsics']\n",
    "print(df_1)\n"
   ]
  },
  {
   "cell_type": "code",
   "execution_count": null,
   "metadata": {},
   "outputs": [],
   "source": []
  }
 ],
 "metadata": {
  "kernelspec": {
   "display_name": "Python 3.8.10 64-bit",
   "language": "python",
   "name": "python3"
  },
  "language_info": {
   "codemirror_mode": {
    "name": "ipython",
    "version": 3
   },
   "file_extension": ".py",
   "mimetype": "text/x-python",
   "name": "python",
   "nbconvert_exporter": "python",
   "pygments_lexer": "ipython3",
   "version": "3.8.10"
  },
  "orig_nbformat": 4,
  "vscode": {
   "interpreter": {
    "hash": "916dbcbb3f70747c44a77c7bcd40155683ae19c65e1c03b4aa3499c5328201f1"
   }
  }
 },
 "nbformat": 4,
 "nbformat_minor": 2
}
