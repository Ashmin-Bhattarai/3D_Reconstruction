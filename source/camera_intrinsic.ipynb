{
 "cells": [
  {
   "cell_type": "code",
   "execution_count": 4,
   "metadata": {},
   "outputs": [
    {
     "data": {
      "text/html": [
       "<div>\n",
       "<style scoped>\n",
       "    .dataframe tbody tr th:only-of-type {\n",
       "        vertical-align: middle;\n",
       "    }\n",
       "\n",
       "    .dataframe tbody tr th {\n",
       "        vertical-align: top;\n",
       "    }\n",
       "\n",
       "    .dataframe thead th {\n",
       "        text-align: right;\n",
       "    }\n",
       "</style>\n",
       "<table border=\"1\" class=\"dataframe\">\n",
       "  <thead>\n",
       "    <tr style=\"text-align: right;\">\n",
       "      <th></th>\n",
       "      <th>6</th>\n",
       "      <th>camera_intrinsics</th>\n",
       "    </tr>\n",
       "  </thead>\n",
       "  <tbody>\n",
       "    <tr>\n",
       "      <th>0</th>\n",
       "      <td>a</td>\n",
       "      <td>2759.48 0 1520.69 0 2764.16 1006.81 0 0 1</td>\n",
       "    </tr>\n",
       "    <tr>\n",
       "      <th>1</th>\n",
       "      <td>b</td>\n",
       "      <td>2759.48 0 1520.69 0 2764.16 1006.81 0 0 1</td>\n",
       "    </tr>\n",
       "    <tr>\n",
       "      <th>2</th>\n",
       "      <td>c</td>\n",
       "      <td>2759.48 0 1520.69 0 2764.16 1006.81 0 0 1</td>\n",
       "    </tr>\n",
       "    <tr>\n",
       "      <th>3</th>\n",
       "      <td>d</td>\n",
       "      <td>2759.48 0 1520.69 0 2764.16 1006.81 0 0 1</td>\n",
       "    </tr>\n",
       "    <tr>\n",
       "      <th>4</th>\n",
       "      <td>e</td>\n",
       "      <td>2759.48 0 1520.69 0 2764.16 1006.81 0 0 1</td>\n",
       "    </tr>\n",
       "  </tbody>\n",
       "</table>\n",
       "</div>"
      ],
      "text/plain": [
       "   6                          camera_intrinsics\n",
       "0  a  2759.48 0 1520.69 0 2764.16 1006.81 0 0 1\n",
       "1  b  2759.48 0 1520.69 0 2764.16 1006.81 0 0 1\n",
       "2  c  2759.48 0 1520.69 0 2764.16 1006.81 0 0 1\n",
       "3  d  2759.48 0 1520.69 0 2764.16 1006.81 0 0 1\n",
       "4  e  2759.48 0 1520.69 0 2764.16 1006.81 0 0 1"
      ]
     },
     "execution_count": 4,
     "metadata": {},
     "output_type": "execute_result"
    }
   ],
   "source": [
    "import pandas as pd\n",
    "import numpy as np\n",
    "data=pd.read_csv('/home/ashmin/Documents/Python/3D_Reconstruction/datasets/fountain-P11/calibration.csv')\n",
    "data.head()"
   ]
  },
  {
   "cell_type": "code",
   "execution_count": 3,
   "metadata": {},
   "outputs": [
    {
     "name": "stdout",
     "output_type": "stream",
     "text": [
      "['image_id', 'camera_intrinsics']\n",
      "0    2759.48 0 1520.69 0 2764.16 1006.81 0 0 1\n",
      "Name: camera_intrinsics, dtype: object\n"
     ]
    }
   ],
   "source": [
    "df=pd.DataFrame(data)\n",
    "value=1\n",
    "print(df.columns.values.tolist())\n",
    "df_1=df.loc[df['image_id']==value,'camera_intrinsics']\n",
    "print(df_1)\n"
   ]
  },
  {
   "cell_type": "code",
   "execution_count": 1,
   "metadata": {},
   "outputs": [],
   "source": [
    "class ClassA:\n",
    "    def __init__(self) -> None:\n",
    "        self.a = 1\n",
    "    \n",
    "    def inc(self):\n",
    "        self.a += 1"
   ]
  },
  {
   "cell_type": "code",
   "execution_count": 2,
   "metadata": {},
   "outputs": [],
   "source": [
    "class ClassB:\n",
    "    def __init__(self, x) -> None:\n",
    "        self.x_obj = x\n",
    "    \n",
    "    def inc(self):\n",
    "        self.x_obj.a += 1"
   ]
  },
  {
   "cell_type": "code",
   "execution_count": 3,
   "metadata": {},
   "outputs": [],
   "source": [
    "s = ClassA()"
   ]
  },
  {
   "cell_type": "code",
   "execution_count": 4,
   "metadata": {},
   "outputs": [],
   "source": [
    "d = ClassB(s)"
   ]
  },
  {
   "cell_type": "code",
   "execution_count": 12,
   "metadata": {},
   "outputs": [
    {
     "data": {
      "text/plain": [
       "3"
      ]
     },
     "execution_count": 12,
     "metadata": {},
     "output_type": "execute_result"
    }
   ],
   "source": [
    "s.a"
   ]
  },
  {
   "cell_type": "code",
   "execution_count": 6,
   "metadata": {},
   "outputs": [],
   "source": [
    "s.inc()"
   ]
  },
  {
   "cell_type": "code",
   "execution_count": 11,
   "metadata": {},
   "outputs": [
    {
     "data": {
      "text/plain": [
       "3"
      ]
     },
     "execution_count": 11,
     "metadata": {},
     "output_type": "execute_result"
    }
   ],
   "source": [
    "d.x_obj.a"
   ]
  },
  {
   "cell_type": "code",
   "execution_count": 10,
   "metadata": {},
   "outputs": [],
   "source": [
    "d.inc()"
   ]
  },
  {
   "cell_type": "code",
   "execution_count": 19,
   "metadata": {},
   "outputs": [
    {
     "data": {
      "text/plain": [
       "240"
      ]
     },
     "execution_count": 19,
     "metadata": {},
     "output_type": "execute_result"
    }
   ],
   "source": [
    "from pympler import asizeof\n",
    "asizeof.asizeof(s)"
   ]
  },
  {
   "cell_type": "code",
   "execution_count": 13,
   "metadata": {},
   "outputs": [],
   "source": [
    "import sys"
   ]
  },
  {
   "cell_type": "code",
   "execution_count": 17,
   "metadata": {},
   "outputs": [
    {
     "data": {
      "text/plain": [
       "64"
      ]
     },
     "execution_count": 17,
     "metadata": {},
     "output_type": "execute_result"
    }
   ],
   "source": [
    "sys.getsizeof(s.inc)"
   ]
  },
  {
   "cell_type": "code",
   "execution_count": 42,
   "metadata": {},
   "outputs": [
    {
     "name": "stdout",
     "output_type": "stream",
     "text": [
      "48\n"
     ]
    },
    {
     "data": {
      "text/plain": [
       "(328, 32)"
      ]
     },
     "execution_count": 42,
     "metadata": {},
     "output_type": "execute_result"
    }
   ],
   "source": [
    "class Point:\n",
    "  \n",
    "    # defining the coordinate variables\n",
    "    def __init__(self):\n",
    "        self.x = 1\n",
    "        self.y = 2\n",
    "        self.z = 3\n",
    "  \n",
    "Coordinates = Point()\n",
    "print(sys.getsizeof(Coordinates))\n",
    "asizeof.asizeof(Coordinates), asizeof.asizeof(Coordinates.x)"
   ]
  },
  {
   "cell_type": "code",
   "execution_count": 37,
   "metadata": {},
   "outputs": [
    {
     "data": {
      "text/plain": [
       "416"
      ]
     },
     "execution_count": 37,
     "metadata": {},
     "output_type": "execute_result"
    }
   ],
   "source": [
    "asizeof.asizeof(Coordinates)"
   ]
  },
  {
   "cell_type": "code",
   "execution_count": 1,
   "metadata": {},
   "outputs": [],
   "source": [
    "w=None"
   ]
  },
  {
   "cell_type": "code",
   "execution_count": 2,
   "metadata": {},
   "outputs": [
    {
     "data": {
      "text/plain": [
       "True"
      ]
     },
     "execution_count": 2,
     "metadata": {},
     "output_type": "execute_result"
    }
   ],
   "source": [
    "w is None"
   ]
  },
  {
   "cell_type": "code",
   "execution_count": 2,
   "metadata": {},
   "outputs": [
    {
     "name": "stdout",
     "output_type": "stream",
     "text": [
      "findHomography(srcPoints, dstPoints[, method[, ransacReprojThreshold[, mask[, maxIters[, confidence]]]]]) -> retval, mask\n",
      ".   @brief Finds a perspective transformation between two planes.\n",
      ".   \n",
      ".   @param srcPoints Coordinates of the points in the original plane, a matrix of the type CV_32FC2\n",
      ".   or vector\\<Point2f\\> .\n",
      ".   @param dstPoints Coordinates of the points in the target plane, a matrix of the type CV_32FC2 or\n",
      ".   a vector\\<Point2f\\> .\n",
      ".   @param method Method used to compute a homography matrix. The following methods are possible:\n",
      ".   -   **0** - a regular method using all the points, i.e., the least squares method\n",
      ".   -   **RANSAC** - RANSAC-based robust method\n",
      ".   -   **LMEDS** - Least-Median robust method\n",
      ".   -   **RHO** - PROSAC-based robust method\n",
      ".   @param ransacReprojThreshold Maximum allowed reprojection error to treat a point pair as an inlier\n",
      ".   (used in the RANSAC and RHO methods only). That is, if\n",
      ".   \\f[\\| \\texttt{dstPoints} _i -  \\texttt{convertPointsHomogeneous} ( \\texttt{H} * \\texttt{srcPoints} _i) \\|_2  >  \\texttt{ransacReprojThreshold}\\f]\n",
      ".   then the point \\f$i\\f$ is considered as an outlier. If srcPoints and dstPoints are measured in pixels,\n",
      ".   it usually makes sense to set this parameter somewhere in the range of 1 to 10.\n",
      ".   @param mask Optional output mask set by a robust method ( RANSAC or LMEDS ). Note that the input\n",
      ".   mask values are ignored.\n",
      ".   @param maxIters The maximum number of RANSAC iterations.\n",
      ".   @param confidence Confidence level, between 0 and 1.\n",
      ".   \n",
      ".   The function finds and returns the perspective transformation \\f$H\\f$ between the source and the\n",
      ".   destination planes:\n",
      ".   \n",
      ".   \\f[s_i  \\vecthree{x'_i}{y'_i}{1} \\sim H  \\vecthree{x_i}{y_i}{1}\\f]\n",
      ".   \n",
      ".   so that the back-projection error\n",
      ".   \n",
      ".   \\f[\\sum _i \\left ( x'_i- \\frac{h_{11} x_i + h_{12} y_i + h_{13}}{h_{31} x_i + h_{32} y_i + h_{33}} \\right )^2+ \\left ( y'_i- \\frac{h_{21} x_i + h_{22} y_i + h_{23}}{h_{31} x_i + h_{32} y_i + h_{33}} \\right )^2\\f]\n",
      ".   \n",
      ".   is minimized. If the parameter method is set to the default value 0, the function uses all the point\n",
      ".   pairs to compute an initial homography estimate with a simple least-squares scheme.\n",
      ".   \n",
      ".   However, if not all of the point pairs ( \\f$srcPoints_i\\f$, \\f$dstPoints_i\\f$ ) fit the rigid perspective\n",
      ".   transformation (that is, there are some outliers), this initial estimate will be poor. In this case,\n",
      ".   you can use one of the three robust methods. The methods RANSAC, LMeDS and RHO try many different\n",
      ".   random subsets of the corresponding point pairs (of four pairs each, collinear pairs are discarded), estimate the homography matrix\n",
      ".   using this subset and a simple least-squares algorithm, and then compute the quality/goodness of the\n",
      ".   computed homography (which is the number of inliers for RANSAC or the least median re-projection error for\n",
      ".   LMeDS). The best subset is then used to produce the initial estimate of the homography matrix and\n",
      ".   the mask of inliers/outliers.\n",
      ".   \n",
      ".   Regardless of the method, robust or not, the computed homography matrix is refined further (using\n",
      ".   inliers only in case of a robust method) with the Levenberg-Marquardt method to reduce the\n",
      ".   re-projection error even more.\n",
      ".   \n",
      ".   The methods RANSAC and RHO can handle practically any ratio of outliers but need a threshold to\n",
      ".   distinguish inliers from outliers. The method LMeDS does not need any threshold but it works\n",
      ".   correctly only when there are more than 50% of inliers. Finally, if there are no outliers and the\n",
      ".   noise is rather small, use the default method (method=0).\n",
      ".   \n",
      ".   The function is used to find initial intrinsic and extrinsic matrices. Homography matrix is\n",
      ".   determined up to a scale. Thus, it is normalized so that \\f$h_{33}=1\\f$. Note that whenever an \\f$H\\f$ matrix\n",
      ".   cannot be estimated, an empty one will be returned.\n",
      ".   \n",
      ".   @sa\n",
      ".   getAffineTransform, estimateAffine2D, estimateAffinePartial2D, getPerspectiveTransform, warpPerspective,\n",
      ".   perspectiveTransform\n"
     ]
    }
   ],
   "source": [
    "print(\"findHomography(srcPoints, dstPoints[, method[, ransacReprojThreshold[, mask[, maxIters[, confidence]]]]]) -> retval, mask\\n.   @brief Finds a perspective transformation between two planes.\\n.   \\n.   @param srcPoints Coordinates of the points in the original plane, a matrix of the type CV_32FC2\\n.   or vector\\\\<Point2f\\\\> .\\n.   @param dstPoints Coordinates of the points in the target plane, a matrix of the type CV_32FC2 or\\n.   a vector\\\\<Point2f\\\\> .\\n.   @param method Method used to compute a homography matrix. The following methods are possible:\\n.   -   **0** - a regular method using all the points, i.e., the least squares method\\n.   -   **RANSAC** - RANSAC-based robust method\\n.   -   **LMEDS** - Least-Median robust method\\n.   -   **RHO** - PROSAC-based robust method\\n.   @param ransacReprojThreshold Maximum allowed reprojection error to treat a point pair as an inlier\\n.   (used in the RANSAC and RHO methods only). That is, if\\n.   \\\\f[\\\\| \\\\texttt{dstPoints} _i -  \\\\texttt{convertPointsHomogeneous} ( \\\\texttt{H} * \\\\texttt{srcPoints} _i) \\\\|_2  >  \\\\texttt{ransacReprojThreshold}\\\\f]\\n.   then the point \\\\f$i\\\\f$ is considered as an outlier. If srcPoints and dstPoints are measured in pixels,\\n.   it usually makes sense to set this parameter somewhere in the range of 1 to 10.\\n.   @param mask Optional output mask set by a robust method ( RANSAC or LMEDS ). Note that the input\\n.   mask values are ignored.\\n.   @param maxIters The maximum number of RANSAC iterations.\\n.   @param confidence Confidence level, between 0 and 1.\\n.   \\n.   The function finds and returns the perspective transformation \\\\f$H\\\\f$ between the source and the\\n.   destination planes:\\n.   \\n.   \\\\f[s_i  \\\\vecthree{x'_i}{y'_i}{1} \\\\sim H  \\\\vecthree{x_i}{y_i}{1}\\\\f]\\n.   \\n.   so that the back-projection error\\n.   \\n.   \\\\f[\\\\sum _i \\\\left ( x'_i- \\\\frac{h_{11} x_i + h_{12} y_i + h_{13}}{h_{31} x_i + h_{32} y_i + h_{33}} \\\\right )^2+ \\\\left ( y'_i- \\\\frac{h_{21} x_i + h_{22} y_i + h_{23}}{h_{31} x_i + h_{32} y_i + h_{33}} \\\\right )^2\\\\f]\\n.   \\n.   is minimized. If the parameter method is set to the default value 0, the function uses all the point\\n.   pairs to compute an initial homography estimate with a simple least-squares scheme.\\n.   \\n.   However, if not all of the point pairs ( \\\\f$srcPoints_i\\\\f$, \\\\f$dstPoints_i\\\\f$ ) fit the rigid perspective\\n.   transformation (that is, there are some outliers), this initial estimate will be poor. In this case,\\n.   you can use one of the three robust methods. The methods RANSAC, LMeDS and RHO try many different\\n.   random subsets of the corresponding point pairs (of four pairs each, collinear pairs are discarded), estimate the homography matrix\\n.   using this subset and a simple least-squares algorithm, and then compute the quality/goodness of the\\n.   computed homography (which is the number of inliers for RANSAC or the least median re-projection error for\\n.   LMeDS). The best subset is then used to produce the initial estimate of the homography matrix and\\n.   the mask of inliers/outliers.\\n.   \\n.   Regardless of the method, robust or not, the computed homography matrix is refined further (using\\n.   inliers only in case of a robust method) with the Levenberg-Marquardt method to reduce the\\n.   re-projection error even more.\\n.   \\n.   The methods RANSAC and RHO can handle practically any ratio of outliers but need a threshold to\\n.   distinguish inliers from outliers. The method LMeDS does not need any threshold but it works\\n.   correctly only when there are more than 50% of inliers. Finally, if there are no outliers and the\\n.   noise is rather small, use the default method (method=0).\\n.   \\n.   The function is used to find initial intrinsic and extrinsic matrices. Homography matrix is\\n.   determined up to a scale. Thus, it is normalized so that \\\\f$h_{33}=1\\\\f$. Note that whenever an \\\\f$H\\\\f$ matrix\\n.   cannot be estimated, an empty one will be returned.\\n.   \\n.   @sa\\n.   getAffineTransform, estimateAffine2D, estimateAffinePartial2D, getPerspectiveTransform, warpPerspective,\\n.   perspectiveTransform\")"
   ]
  },
  {
   "cell_type": "code",
   "execution_count": 4,
   "metadata": {},
   "outputs": [],
   "source": [
    "import numpy as np\n",
    "f= np.array([[1,2,3],[4,5,6],[7,8,9]])"
   ]
  },
  {
   "cell_type": "code",
   "execution_count": 6,
   "metadata": {},
   "outputs": [
    {
     "data": {
      "text/plain": [
       "array([[1, 2, 3],\n",
       "       [4, 5, 6],\n",
       "       [7, 8, 9]])"
      ]
     },
     "execution_count": 6,
     "metadata": {},
     "output_type": "execute_result"
    }
   ],
   "source": [
    "f"
   ]
  },
  {
   "cell_type": "code",
   "execution_count": 13,
   "metadata": {},
   "outputs": [
    {
     "data": {
      "text/plain": [
       "array([[1, 2, 3],\n",
       "       [4, 5, 6],\n",
       "       [7, 8, 9]])"
      ]
     },
     "execution_count": 13,
     "metadata": {},
     "output_type": "execute_result"
    }
   ],
   "source": [
    "f.transpose(-2,-1)"
   ]
  },
  {
   "cell_type": "code",
   "execution_count": 14,
   "metadata": {},
   "outputs": [],
   "source": [
    "import torch"
   ]
  },
  {
   "cell_type": "code",
   "execution_count": 32,
   "metadata": {},
   "outputs": [
    {
     "data": {
      "text/plain": [
       "tensor([[ 0.4847, -0.4098, -0.5676],\n",
       "        [ 1.1815, -1.0843,  0.6238],\n",
       "        [-0.6620, -1.0690, -0.0148]])"
      ]
     },
     "execution_count": 32,
     "metadata": {},
     "output_type": "execute_result"
    }
   ],
   "source": [
    "x = torch.randn(3,3)\n",
    "x"
   ]
  },
  {
   "cell_type": "code",
   "execution_count": 33,
   "metadata": {},
   "outputs": [],
   "source": [
    "xt = x.transpose(-2,-1)"
   ]
  },
  {
   "cell_type": "code",
   "execution_count": 34,
   "metadata": {},
   "outputs": [
    {
     "data": {
      "text/plain": [
       "tensor([-0.9651,  0.2609,  0.0243])"
      ]
     },
     "execution_count": 34,
     "metadata": {},
     "output_type": "execute_result"
    }
   ],
   "source": [
    "_, s, vh = torch.svd(xt)\n",
    "e = vh[..., -1]\n",
    "e"
   ]
  },
  {
   "cell_type": "code",
   "execution_count": null,
   "metadata": {},
   "outputs": [],
   "source": []
  }
 ],
 "metadata": {
  "kernelspec": {
   "display_name": "Python 3.9.0 ('torch')",
   "language": "python",
   "name": "python3"
  },
  "language_info": {
   "codemirror_mode": {
    "name": "ipython",
    "version": 3
   },
   "file_extension": ".py",
   "mimetype": "text/x-python",
   "name": "python",
   "nbconvert_exporter": "python",
   "pygments_lexer": "ipython3",
   "version": "3.9.0"
  },
  "orig_nbformat": 4,
  "vscode": {
   "interpreter": {
    "hash": "2b97681fa81ff271a5c79f7534cc2b4dfbcfc950a2506a5de2c95f09bb1c14e0"
   }
  }
 },
 "nbformat": 4,
 "nbformat_minor": 2
}
